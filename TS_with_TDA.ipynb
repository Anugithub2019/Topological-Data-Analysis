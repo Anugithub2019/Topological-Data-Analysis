{
  "nbformat": 4,
  "nbformat_minor": 0,
  "metadata": {
    "colab": {
      "provenance": []
    },
    "kernelspec": {
      "name": "python3",
      "display_name": "Python 3"
    },
    "language_info": {
      "name": "python"
    }
  },
  "cells": [
    {
      "cell_type": "code",
      "execution_count": null,
      "metadata": {
        "id": "lRA4YOXfWirT",
        "colab": {
          "base_uri": "https://localhost:8080/"
        },
        "outputId": "52ccb55b-86a4-4951-9efd-6041a2a8fbb7"
      },
      "outputs": [
        {
          "output_type": "stream",
          "name": "stdout",
          "text": [
            "Drive already mounted at /content/drive; to attempt to forcibly remount, call drive.mount(\"/content/drive\", force_remount=True).\n"
          ]
        }
      ],
      "source": [
        "from google.colab import drive\n",
        "drive.mount('/content/drive')"
      ]
    },
    {
      "cell_type": "code",
      "source": [],
      "metadata": {
        "id": "PocxxAH5dFz5"
      },
      "execution_count": null,
      "outputs": []
    },
    {
      "cell_type": "code",
      "source": [
        "test_file = '/content/drive/MyDrive/TwoPatterns/TwoPatterns_TEST.txt'\n",
        "train_file = '/content/drive/MyDrive/TwoPatterns/TwoPatterns_TRAIN.txt'"
      ],
      "metadata": {
        "id": "h1rlvO-0Yg5t"
      },
      "execution_count": null,
      "outputs": []
    },
    {
      "cell_type": "code",
      "source": [
        "!pip install gudhi\n",
        "#!pip install --upgrade gudhi\n"
      ],
      "metadata": {
        "colab": {
          "base_uri": "https://localhost:8080/"
        },
        "id": "pD6czTCgY-Ho",
        "outputId": "31e536aa-121c-487c-9784-14ab9838c59f"
      },
      "execution_count": null,
      "outputs": [
        {
          "output_type": "stream",
          "name": "stdout",
          "text": [
            "Looking in indexes: https://pypi.org/simple, https://us-python.pkg.dev/colab-wheels/public/simple/\n",
            "Requirement already satisfied: gudhi in /usr/local/lib/python3.9/dist-packages (3.8.0)\n",
            "Requirement already satisfied: numpy>=1.15.0 in /usr/local/lib/python3.9/dist-packages (from gudhi) (1.22.4)\n"
          ]
        }
      ]
    },
    {
      "cell_type": "code",
      "source": [
        "!pip install sklearn\n"
      ],
      "metadata": {
        "colab": {
          "base_uri": "https://localhost:8080/"
        },
        "id": "a5yAPZLBaKaQ",
        "outputId": "e3bb63ab-4c3c-4dc5-ceb7-eacb358f233c"
      },
      "execution_count": null,
      "outputs": [
        {
          "output_type": "stream",
          "name": "stdout",
          "text": [
            "Looking in indexes: https://pypi.org/simple, https://us-python.pkg.dev/colab-wheels/public/simple/\n",
            "Requirement already satisfied: sklearn in /usr/local/lib/python3.9/dist-packages (0.0.post4)\n"
          ]
        }
      ]
    },
    {
      "cell_type": "code",
      "source": [
        "import numpy as np\n",
        "import pandas as pd\n",
        "from sklearn.model_selection import train_test_split\n",
        "from sklearn.preprocessing import StandardScaler\n",
        "from sklearn.pipeline import make_pipeline\n",
        "from sklearn.svm import SVC\n",
        "from sklearn.metrics import classification_report, accuracy_score\n",
        "import gudhi as gd\n",
        "import gudhi.persistence_graphical_tools as gpt\n",
        "import gudhi.representations\n",
        "#from gd.representations import Landscape\n",
        "\n",
        "\n",
        "\n",
        "# Load the data\n",
        "def load_data(file_path):\n",
        "    data = pd.read_csv(file_path, header=None, delim_whitespace=True)\n",
        "    labels = data.iloc[:, 0].values\n",
        "    time_series = data.iloc[:, 1:].values\n",
        "    return time_series, labels\n",
        "\n",
        "\n",
        "\n",
        "X_train, y_train = load_data(train_file)\n",
        "X_test, y_test = load_data(test_file)\n",
        "\n",
        "\n",
        "\n",
        "def sliding_window(ts, m, tau):\n",
        "    return np.array([ts[i:i + m * tau:tau] for i in range(len(ts) - (m - 1) * tau)])\n",
        "\n",
        "m = 5\n",
        "tau = 1\n",
        "\n",
        "point_clouds_train = np.array([sliding_window(ts, m, tau) for ts in X_train])\n",
        "point_clouds_test = np.array([sliding_window(ts, m, tau) for ts in X_test])\n",
        "\n",
        "# Compute persistence diagrams\n",
        "def compute_persistence_diagrams(point_clouds, max_edge_length=1.0):\n",
        "    diagrams = []\n",
        "    for pc in point_clouds:\n",
        "        rips_complex = gd.RipsComplex(points=pc, max_edge_length=max_edge_length)\n",
        "        simplex_tree = rips_complex.create_simplex_tree(max_dimension=2)\n",
        "        diagrams.append(simplex_tree.persistence())\n",
        "    return diagrams\n",
        "\n",
        "diagrams_train = compute_persistence_diagrams(point_clouds_train)\n",
        "diagrams_test = compute_persistence_diagrams(point_clouds_test)\n",
        "\n",
        "\n",
        "\n",
        "\n",
        "\n",
        "\n",
        "\n",
        "\n",
        "\n",
        "\n"
      ],
      "metadata": {
        "id": "BwfRQmsnaZQz"
      },
      "execution_count": null,
      "outputs": []
    },
    {
      "cell_type": "code",
      "source": [
        "#rips_complex = gd.RipsComplex(points=pc, max_edge_length= 1)\n",
        "#simplex_tree = rips_complex.create_simplex_tree(max_dimension=2)"
      ],
      "metadata": {
        "id": "f68HpC1tXYtm"
      },
      "execution_count": null,
      "outputs": []
    },
    {
      "cell_type": "code",
      "source": [
        "diagrams_train[11]"
      ],
      "metadata": {
        "colab": {
          "base_uri": "https://localhost:8080/"
        },
        "id": "2sbiWpCdiADu",
        "outputId": "10423930-b3b4-48cc-c720-47b2d524aea9"
      },
      "execution_count": null,
      "outputs": [
        {
          "output_type": "execute_result",
          "data": {
            "text/plain": [
              "[(1, (0.4187443882974823, 0.5594127950278094)),\n",
              " (1, (0.5341273413378421, 0.6443205131008599)),\n",
              " (1, (0.6215534713114521, 0.7287326161117949)),\n",
              " (1, (0.616721866152969, 0.716399684709996)),\n",
              " (1, (0.45100347726808065, 0.5327449006011206)),\n",
              " (1, (0.6397396423679697, 0.7022967216568635)),\n",
              " (1, (0.5270424703408226, 0.5865580709336439)),\n",
              " (1, (0.5943914428506804, 0.6471468513939386)),\n",
              " (1, (0.5200643530467146, 0.5713537075824692)),\n",
              " (1, (0.3494338421246547, 0.39319121877830593)),\n",
              " (1, (0.5449821313036414, 0.5776169676436144)),\n",
              " (1, (0.3831880273767622, 0.41525854566881704)),\n",
              " (1, (0.3047834821280636, 0.3358172516251857)),\n",
              " (1, (0.49627062627907825, 0.5268888543037145)),\n",
              " (1, (0.5394616342195782, 0.5673654128280231)),\n",
              " (1, (0.5697921954463241, 0.5971581592560058)),\n",
              " (1, (0.3637647869655924, 0.3868084760167666)),\n",
              " (1, (0.5816340434691267, 0.6029681125326132)),\n",
              " (1, (0.5149965121094747, 0.5360546828841556)),\n",
              " (1, (0.38309268237664784, 0.3991232094191247)),\n",
              " (1, (0.7246800898821969, 0.7366013745914599)),\n",
              " (1, (0.6378865599654368, 0.6450065072973826)),\n",
              " (1, (0.3359200429033206, 0.33691865970345275)),\n",
              " (0, (0.0, inf)),\n",
              " (0, (0.0, inf)),\n",
              " (0, (0.0, inf)),\n",
              " (0, (0.0, inf)),\n",
              " (0, (0.0, inf)),\n",
              " (0, (0.0, inf)),\n",
              " (0, (0.0, inf)),\n",
              " (0, (0.0, inf)),\n",
              " (0, (0.0, inf)),\n",
              " (0, (0.0, inf)),\n",
              " (0, (0.0, inf)),\n",
              " (0, (0.0, inf)),\n",
              " (0, (0.0, inf)),\n",
              " (0, (0.0, inf)),\n",
              " (0, (0.0, inf)),\n",
              " (0, (0.0, inf)),\n",
              " (0, (0.0, inf)),\n",
              " (0, (0.0, inf)),\n",
              " (0, (0.0, inf)),\n",
              " (0, (0.0, inf)),\n",
              " (0, (0.0, inf)),\n",
              " (0, (0.0, inf)),\n",
              " (0, (0.0, inf)),\n",
              " (0, (0.0, inf)),\n",
              " (0, (0.0, inf)),\n",
              " (0, (0.0, 0.9678383780141435)),\n",
              " (0, (0.0, 0.9444141100000001)),\n",
              " (0, (0.0, 0.6377588264305887)),\n",
              " (0, (0.0, 0.6308009914269422)),\n",
              " (0, (0.0, 0.5804501085647624)),\n",
              " (0, (0.0, 0.5804099178136061)),\n",
              " (0, (0.0, 0.554174452956313)),\n",
              " (0, (0.0, 0.5229792793418288)),\n",
              " (0, (0.0, 0.5210601651531348)),\n",
              " (0, (0.0, 0.508698960305865)),\n",
              " (0, (0.0, 0.5037956722588262)),\n",
              " (0, (0.0, 0.459324976327294)),\n",
              " (0, (0.0, 0.44990980195083413)),\n",
              " (0, (0.0, 0.44884697403444607)),\n",
              " (0, (0.0, 0.43920201840019946)),\n",
              " (0, (0.0, 0.43690117957012264)),\n",
              " (0, (0.0, 0.42954679823223013)),\n",
              " (0, (0.0, 0.4284204484474226)),\n",
              " (0, (0.0, 0.4270778601697396)),\n",
              " (0, (0.0, 0.4217500926089417)),\n",
              " (0, (0.0, 0.41582930011729236)),\n",
              " (0, (0.0, 0.41379428136741825)),\n",
              " (0, (0.0, 0.40606780672644355)),\n",
              " (0, (0.0, 0.4033330266587043)),\n",
              " (0, (0.0, 0.3929147955081852)),\n",
              " (0, (0.0, 0.3898163029484691)),\n",
              " (0, (0.0, 0.38633728238749393)),\n",
              " (0, (0.0, 0.38266181227291235)),\n",
              " (0, (0.0, 0.3787335313035301)),\n",
              " (0, (0.0, 0.3720360803402718)),\n",
              " (0, (0.0, 0.36488437268501683)),\n",
              " (0, (0.0, 0.36086968062233726)),\n",
              " (0, (0.0, 0.35229347515542797)),\n",
              " (0, (0.0, 0.35227391700712246)),\n",
              " (0, (0.0, 0.35113158248595305)),\n",
              " (0, (0.0, 0.3366117292462915)),\n",
              " (0, (0.0, 0.33358164316036754)),\n",
              " (0, (0.0, 0.31760387519895655)),\n",
              " (0, (0.0, 0.3054837802169046)),\n",
              " (0, (0.0, 0.2977156377358761)),\n",
              " (0, (0.0, 0.29670255442475585)),\n",
              " (0, (0.0, 0.295919783918734)),\n",
              " (0, (0.0, 0.2957186633819682)),\n",
              " (0, (0.0, 0.28548532882034566)),\n",
              " (0, (0.0, 0.2720345502003627)),\n",
              " (0, (0.0, 0.26997755269383605)),\n",
              " (0, (0.0, 0.26669738580083413)),\n",
              " (0, (0.0, 0.257427165383404)),\n",
              " (0, (0.0, 0.2540695794069378)),\n",
              " (0, (0.0, 0.2517260381480292)),\n",
              " (0, (0.0, 0.2473628225413597)),\n",
              " (0, (0.0, 0.2420067468013681)),\n",
              " (0, (0.0, 0.22695600923477396)),\n",
              " (0, (0.0, 0.2239093028841827)),\n",
              " (0, (0.0, 0.22232441860470636)),\n",
              " (0, (0.0, 0.22086839538674052)),\n",
              " (0, (0.0, 0.19611199644287952)),\n",
              " (0, (0.0, 0.188666438903363)),\n",
              " (0, (0.0, 0.1311104661004851))]"
            ]
          },
          "metadata": {},
          "execution_count": 98
        }
      ]
    },
    {
      "cell_type": "code",
      "source": [],
      "metadata": {
        "id": "heVcRNIvVxvX"
      },
      "execution_count": null,
      "outputs": []
    },
    {
      "cell_type": "code",
      "source": [],
      "metadata": {
        "id": "3M9_T6d5L-64"
      },
      "execution_count": null,
      "outputs": []
    },
    {
      "cell_type": "code",
      "source": [
        "diags = [[list(point[1]) for point in dgm if point[0] == 1] for dgm in diagrams_train]"
      ],
      "metadata": {
        "id": "JQxNdn5ehjrz"
      },
      "execution_count": null,
      "outputs": []
    },
    {
      "cell_type": "code",
      "source": [
        "np.isnan([2,np.nan]).any()"
      ],
      "metadata": {
        "colab": {
          "base_uri": "https://localhost:8080/"
        },
        "id": "qP8dcOAOIrnI",
        "outputId": "bcdb3219-65bb-4eed-f725-0b2b70e73d42"
      },
      "execution_count": null,
      "outputs": [
        {
          "output_type": "execute_result",
          "data": {
            "text/plain": [
              "True"
            ]
          },
          "metadata": {},
          "execution_count": 100
        }
      ]
    },
    {
      "cell_type": "code",
      "source": [],
      "metadata": {
        "id": "3nveAOwxERT7"
      },
      "execution_count": null,
      "outputs": []
    },
    {
      "cell_type": "code",
      "source": [
        "np.array([np.array([1,2,3]), np.array([1,2,5])])"
      ],
      "metadata": {
        "colab": {
          "base_uri": "https://localhost:8080/"
        },
        "id": "aV06C82lLgzh",
        "outputId": "5fc9ec60-59ff-4138-fe00-ea323266f9d8"
      },
      "execution_count": null,
      "outputs": [
        {
          "output_type": "execute_result",
          "data": {
            "text/plain": [
              "array([[1, 2, 3],\n",
              "       [1, 2, 5]])"
            ]
          },
          "metadata": {},
          "execution_count": 101
        }
      ]
    },
    {
      "cell_type": "code",
      "source": [
        "\n",
        "# Feature extraction\n",
        "def extract_features(diagrams, homology_dim=1):\n",
        "    #persistence = gd.representations.Landscape()\n",
        "    features = []\n",
        "    for diagram in diagrams:\n",
        "        #persistence.fit([dgm for dgm in diagram if dgm[0] == homology_dim])\n",
        "        #diags = [dgm for dgm in diagram if dgm[0] == homology_dim]\n",
        "        diags = [np.array([list(point[1]) for point in diagram if point[0] == homology_dim and not np.isnan(list(point[1])).any() and not np.isinf(list(point[1])).any()])]\n",
        "        persistence=gd.representations.Landscape(num_landscapes=2,resolution=10).fit_transform(diags)\n",
        "        persistence_features = persistence.flatten()\n",
        "        #persistence_features = persistence_features[~np.isnan(persistence_features)]\n",
        "        features.append(persistence_features)\n",
        "        #import pdb; pdb.set_trace()\n",
        "    return np.array(features)\n",
        "\n",
        "X_train_features = extract_features(diagrams_train)\n",
        "X_test_features = extract_features(diagrams_test)\n",
        "#x = x[~numpy.isnan(x)]\n",
        "\n",
        "\n",
        "\n",
        "\n",
        "\n",
        "\n"
      ],
      "metadata": {
        "id": "AgluyOg5qdRy"
      },
      "execution_count": null,
      "outputs": []
    },
    {
      "cell_type": "code",
      "source": [
        "X_train_features.shape"
      ],
      "metadata": {
        "colab": {
          "base_uri": "https://localhost:8080/"
        },
        "id": "6mI_ADwmLAro",
        "outputId": "a7fd1bb6-1955-4641-b820-5d6fc2aab7c9"
      },
      "execution_count": null,
      "outputs": [
        {
          "output_type": "execute_result",
          "data": {
            "text/plain": [
              "(1000, 20)"
            ]
          },
          "metadata": {},
          "execution_count": 103
        }
      ]
    },
    {
      "cell_type": "code",
      "source": [
        "y_train[:5]"
      ],
      "metadata": {
        "colab": {
          "base_uri": "https://localhost:8080/"
        },
        "id": "RuJIqO2uLGs0",
        "outputId": "a6016f37-adf0-4894-8d7d-9ed193a5add7"
      },
      "execution_count": null,
      "outputs": [
        {
          "output_type": "execute_result",
          "data": {
            "text/plain": [
              "array([2., 3., 4., 4., 2.])"
            ]
          },
          "metadata": {},
          "execution_count": 104
        }
      ]
    },
    {
      "cell_type": "code",
      "source": [
        "# Train and evaluate the classifier\n",
        "#pipeline = make_pipeline(\n",
        "#    StandardScaler(),\n",
        "#    SVC(kernel=\"linear\", C=1, random_state=42)\n",
        "#)\n",
        "\n",
        "#pipeline.fit(X_train_features, y_train)\n",
        "#y_pred = pipeline.predict(X_test_features)\n",
        "\n",
        "#print(\"Classifier performance:\")\n",
        "#print(classification_report(y_test, y_pred))\n",
        "#print(f\"Accuracy: {accuracy_score(y_test, y_pred)}\")\n"
      ],
      "metadata": {
        "id": "Y7dcdUJ6JyWD"
      },
      "execution_count": null,
      "outputs": []
    },
    {
      "cell_type": "code",
      "source": [
        "# X_train_features is a matrix of size 1000X20 the places where it's nan the coordinates is given by (i,j)\n",
        "np.argwhere(np.isnan(X_train_features))\n"
      ],
      "metadata": {
        "colab": {
          "base_uri": "https://localhost:8080/"
        },
        "id": "0Br67E_sB3Ee",
        "outputId": "80631e3e-4a6a-46cf-e45b-3206ad9a8a66"
      },
      "execution_count": null,
      "outputs": [
        {
          "output_type": "execute_result",
          "data": {
            "text/plain": [
              "array([], shape=(0, 2), dtype=int64)"
            ]
          },
          "metadata": {},
          "execution_count": 106
        }
      ]
    },
    {
      "cell_type": "code",
      "source": [],
      "metadata": {
        "id": "7xOksKpxxiWG"
      },
      "execution_count": null,
      "outputs": []
    },
    {
      "cell_type": "code",
      "source": [
        "X_train_features[84]"
      ],
      "metadata": {
        "colab": {
          "base_uri": "https://localhost:8080/"
        },
        "id": "84SACJa0rar8",
        "outputId": "d602bb31-ae1e-473a-815e-2ca041755086"
      },
      "execution_count": null,
      "outputs": [
        {
          "output_type": "execute_result",
          "data": {
            "text/plain": [
              "array([0.00809493, 0.02504107, 0.06562863, 0.03430169, 0.0742056 ,\n",
              "       0.04645601, 0.09990234, 0.07501908, 0.09789763, 0.06701388,\n",
              "       0.00521814, 0.02381121, 0.05579278, 0.02618212, 0.06404878,\n",
              "       0.04219966, 0.        , 0.03088376, 0.06143269, 0.01909208])"
            ]
          },
          "metadata": {},
          "execution_count": 107
        }
      ]
    },
    {
      "cell_type": "code",
      "source": [
        "\n",
        "\n",
        "y_test\n"
      ],
      "metadata": {
        "colab": {
          "base_uri": "https://localhost:8080/"
        },
        "id": "OU0qCnYzX66F",
        "outputId": "c42721fa-8da7-4122-a99d-150d20c62aee"
      },
      "execution_count": null,
      "outputs": [
        {
          "output_type": "execute_result",
          "data": {
            "text/plain": [
              "array([2., 3., 1., ..., 2., 2., 1.])"
            ]
          },
          "metadata": {},
          "execution_count": 108
        }
      ]
    },
    {
      "cell_type": "code",
      "source": [
        "from sklearn.impute import SimpleImputer\n",
        "from sklearn import svm\n",
        "\n",
        "#imp = SimpleImputer(missing_values=np.nan, strategy='mean')\n",
        "imp = SimpleImputer(missing_values=np.nan, fill_value= 0 )\n",
        "\n",
        "imp = imp.fit(X_train_features)\n",
        "\n",
        "X_train_imp = imp.transform(X_train_features)\n",
        "X_test_imp = imp.transform(X_test_features)\n",
        "\n",
        "clf = svm.SVC()\n",
        "clf = clf.fit(X_train_imp, y_train)\n",
        "predictions = clf.predict(X_test_imp)"
      ],
      "metadata": {
        "id": "NOKjDwuSal0_"
      },
      "execution_count": null,
      "outputs": []
    },
    {
      "cell_type": "code",
      "source": [
        "print(\"Classifier performance:\")\n",
        "print(classification_report(y_test, predictions))\n",
        "print(f\"Accuracy: {accuracy_score(y_test, predictions)}\")"
      ],
      "metadata": {
        "colab": {
          "base_uri": "https://localhost:8080/"
        },
        "id": "mdEyZZoQcjRe",
        "outputId": "fd98a900-79fc-4170-c194-ac6cca018e77"
      },
      "execution_count": null,
      "outputs": [
        {
          "output_type": "stream",
          "name": "stdout",
          "text": [
            "Classifier performance:\n",
            "              precision    recall  f1-score   support\n",
            "\n",
            "         1.0       0.26      0.44      0.32      1035\n",
            "         2.0       0.21      0.09      0.12      1011\n",
            "         3.0       0.24      0.27      0.26       995\n",
            "         4.0       0.25      0.18      0.21       959\n",
            "\n",
            "    accuracy                           0.25      4000\n",
            "   macro avg       0.24      0.24      0.23      4000\n",
            "weighted avg       0.24      0.25      0.23      4000\n",
            "\n",
            "Accuracy: 0.2465\n"
          ]
        }
      ]
    },
    {
      "cell_type": "code",
      "source": [
        "predictions"
      ],
      "metadata": {
        "colab": {
          "base_uri": "https://localhost:8080/"
        },
        "id": "r-87keii2_e3",
        "outputId": "bc6f80f4-20e4-488f-da60-ff2abe5321ca"
      },
      "execution_count": null,
      "outputs": [
        {
          "output_type": "execute_result",
          "data": {
            "text/plain": [
              "array([1., 1., 1., ..., 3., 1., 4.])"
            ]
          },
          "metadata": {},
          "execution_count": 111
        }
      ]
    },
    {
      "cell_type": "code",
      "source": [],
      "metadata": {
        "id": "xF25DBvP3HRb"
      },
      "execution_count": null,
      "outputs": []
    }
  ]
}